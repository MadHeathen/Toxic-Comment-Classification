{
 "cells": [
  {
   "cell_type": "code",
   "execution_count": 1,
   "id": "8e8bea3e-e7bc-4fb6-b1e8-e549919f5001",
   "metadata": {
    "tags": []
   },
   "outputs": [],
   "source": [
    "import pandas as pd\n",
    "import numpy as np"
   ]
  },
  {
   "cell_type": "code",
   "execution_count": 2,
   "id": "6b049325-30fe-49a2-912e-72ef70fd670e",
   "metadata": {
    "tags": []
   },
   "outputs": [],
   "source": [
    "df = pd.read_csv('train.csv')"
   ]
  },
  {
   "cell_type": "code",
   "execution_count": 3,
   "id": "f8e0a0bc-c101-4846-a37d-d788261429e1",
   "metadata": {
    "tags": []
   },
   "outputs": [
    {
     "data": {
      "text/html": [
       "<div>\n",
       "<style scoped>\n",
       "    .dataframe tbody tr th:only-of-type {\n",
       "        vertical-align: middle;\n",
       "    }\n",
       "\n",
       "    .dataframe tbody tr th {\n",
       "        vertical-align: top;\n",
       "    }\n",
       "\n",
       "    .dataframe thead th {\n",
       "        text-align: right;\n",
       "    }\n",
       "</style>\n",
       "<table border=\"1\" class=\"dataframe\">\n",
       "  <thead>\n",
       "    <tr style=\"text-align: right;\">\n",
       "      <th></th>\n",
       "      <th>id</th>\n",
       "      <th>target</th>\n",
       "      <th>comment_text</th>\n",
       "      <th>severe_toxicity</th>\n",
       "      <th>obscene</th>\n",
       "      <th>identity_attack</th>\n",
       "      <th>insult</th>\n",
       "      <th>threat</th>\n",
       "      <th>asian</th>\n",
       "      <th>atheist</th>\n",
       "      <th>...</th>\n",
       "      <th>article_id</th>\n",
       "      <th>rating</th>\n",
       "      <th>funny</th>\n",
       "      <th>wow</th>\n",
       "      <th>sad</th>\n",
       "      <th>likes</th>\n",
       "      <th>disagree</th>\n",
       "      <th>sexual_explicit</th>\n",
       "      <th>identity_annotator_count</th>\n",
       "      <th>toxicity_annotator_count</th>\n",
       "    </tr>\n",
       "  </thead>\n",
       "  <tbody>\n",
       "    <tr>\n",
       "      <th>0</th>\n",
       "      <td>59848</td>\n",
       "      <td>0.000000</td>\n",
       "      <td>This is so cool. It's like, 'would you want yo...</td>\n",
       "      <td>0.000000</td>\n",
       "      <td>0.0</td>\n",
       "      <td>0.000000</td>\n",
       "      <td>0.00000</td>\n",
       "      <td>0.0</td>\n",
       "      <td>NaN</td>\n",
       "      <td>NaN</td>\n",
       "      <td>...</td>\n",
       "      <td>2006</td>\n",
       "      <td>rejected</td>\n",
       "      <td>0</td>\n",
       "      <td>0</td>\n",
       "      <td>0</td>\n",
       "      <td>0</td>\n",
       "      <td>0</td>\n",
       "      <td>0.0</td>\n",
       "      <td>0</td>\n",
       "      <td>4</td>\n",
       "    </tr>\n",
       "    <tr>\n",
       "      <th>1</th>\n",
       "      <td>59849</td>\n",
       "      <td>0.000000</td>\n",
       "      <td>Thank you!! This would make my life a lot less...</td>\n",
       "      <td>0.000000</td>\n",
       "      <td>0.0</td>\n",
       "      <td>0.000000</td>\n",
       "      <td>0.00000</td>\n",
       "      <td>0.0</td>\n",
       "      <td>NaN</td>\n",
       "      <td>NaN</td>\n",
       "      <td>...</td>\n",
       "      <td>2006</td>\n",
       "      <td>rejected</td>\n",
       "      <td>0</td>\n",
       "      <td>0</td>\n",
       "      <td>0</td>\n",
       "      <td>0</td>\n",
       "      <td>0</td>\n",
       "      <td>0.0</td>\n",
       "      <td>0</td>\n",
       "      <td>4</td>\n",
       "    </tr>\n",
       "    <tr>\n",
       "      <th>2</th>\n",
       "      <td>59852</td>\n",
       "      <td>0.000000</td>\n",
       "      <td>This is such an urgent design problem; kudos t...</td>\n",
       "      <td>0.000000</td>\n",
       "      <td>0.0</td>\n",
       "      <td>0.000000</td>\n",
       "      <td>0.00000</td>\n",
       "      <td>0.0</td>\n",
       "      <td>NaN</td>\n",
       "      <td>NaN</td>\n",
       "      <td>...</td>\n",
       "      <td>2006</td>\n",
       "      <td>rejected</td>\n",
       "      <td>0</td>\n",
       "      <td>0</td>\n",
       "      <td>0</td>\n",
       "      <td>0</td>\n",
       "      <td>0</td>\n",
       "      <td>0.0</td>\n",
       "      <td>0</td>\n",
       "      <td>4</td>\n",
       "    </tr>\n",
       "    <tr>\n",
       "      <th>3</th>\n",
       "      <td>59855</td>\n",
       "      <td>0.000000</td>\n",
       "      <td>Is this something I'll be able to install on m...</td>\n",
       "      <td>0.000000</td>\n",
       "      <td>0.0</td>\n",
       "      <td>0.000000</td>\n",
       "      <td>0.00000</td>\n",
       "      <td>0.0</td>\n",
       "      <td>NaN</td>\n",
       "      <td>NaN</td>\n",
       "      <td>...</td>\n",
       "      <td>2006</td>\n",
       "      <td>rejected</td>\n",
       "      <td>0</td>\n",
       "      <td>0</td>\n",
       "      <td>0</td>\n",
       "      <td>0</td>\n",
       "      <td>0</td>\n",
       "      <td>0.0</td>\n",
       "      <td>0</td>\n",
       "      <td>4</td>\n",
       "    </tr>\n",
       "    <tr>\n",
       "      <th>4</th>\n",
       "      <td>59856</td>\n",
       "      <td>0.893617</td>\n",
       "      <td>haha you guys are a bunch of losers.</td>\n",
       "      <td>0.021277</td>\n",
       "      <td>0.0</td>\n",
       "      <td>0.021277</td>\n",
       "      <td>0.87234</td>\n",
       "      <td>0.0</td>\n",
       "      <td>0.0</td>\n",
       "      <td>0.0</td>\n",
       "      <td>...</td>\n",
       "      <td>2006</td>\n",
       "      <td>rejected</td>\n",
       "      <td>0</td>\n",
       "      <td>0</td>\n",
       "      <td>0</td>\n",
       "      <td>1</td>\n",
       "      <td>0</td>\n",
       "      <td>0.0</td>\n",
       "      <td>4</td>\n",
       "      <td>47</td>\n",
       "    </tr>\n",
       "  </tbody>\n",
       "</table>\n",
       "<p>5 rows × 45 columns</p>\n",
       "</div>"
      ],
      "text/plain": [
       "      id    target                                       comment_text  \\\n",
       "0  59848  0.000000  This is so cool. It's like, 'would you want yo...   \n",
       "1  59849  0.000000  Thank you!! This would make my life a lot less...   \n",
       "2  59852  0.000000  This is such an urgent design problem; kudos t...   \n",
       "3  59855  0.000000  Is this something I'll be able to install on m...   \n",
       "4  59856  0.893617               haha you guys are a bunch of losers.   \n",
       "\n",
       "   severe_toxicity  obscene  identity_attack   insult  threat  asian  atheist  \\\n",
       "0         0.000000      0.0         0.000000  0.00000     0.0    NaN      NaN   \n",
       "1         0.000000      0.0         0.000000  0.00000     0.0    NaN      NaN   \n",
       "2         0.000000      0.0         0.000000  0.00000     0.0    NaN      NaN   \n",
       "3         0.000000      0.0         0.000000  0.00000     0.0    NaN      NaN   \n",
       "4         0.021277      0.0         0.021277  0.87234     0.0    0.0      0.0   \n",
       "\n",
       "   ...  article_id    rating  funny  wow  sad  likes  disagree  \\\n",
       "0  ...        2006  rejected      0    0    0      0         0   \n",
       "1  ...        2006  rejected      0    0    0      0         0   \n",
       "2  ...        2006  rejected      0    0    0      0         0   \n",
       "3  ...        2006  rejected      0    0    0      0         0   \n",
       "4  ...        2006  rejected      0    0    0      1         0   \n",
       "\n",
       "   sexual_explicit  identity_annotator_count  toxicity_annotator_count  \n",
       "0              0.0                         0                         4  \n",
       "1              0.0                         0                         4  \n",
       "2              0.0                         0                         4  \n",
       "3              0.0                         0                         4  \n",
       "4              0.0                         4                        47  \n",
       "\n",
       "[5 rows x 45 columns]"
      ]
     },
     "execution_count": 3,
     "metadata": {},
     "output_type": "execute_result"
    }
   ],
   "source": [
    "df.head()"
   ]
  },
  {
   "cell_type": "code",
   "execution_count": 4,
   "id": "cc20627e-5553-45fd-81c9-6dfa71d40784",
   "metadata": {
    "tags": []
   },
   "outputs": [
    {
     "data": {
      "text/plain": [
       "id                                           0\n",
       "target                                       0\n",
       "comment_text                                 0\n",
       "severe_toxicity                              0\n",
       "obscene                                      0\n",
       "identity_attack                              0\n",
       "insult                                       0\n",
       "threat                                       0\n",
       "asian                                  1399744\n",
       "atheist                                1399744\n",
       "bisexual                               1399744\n",
       "black                                  1399744\n",
       "buddhist                               1399744\n",
       "christian                              1399744\n",
       "female                                 1399744\n",
       "heterosexual                           1399744\n",
       "hindu                                  1399744\n",
       "homosexual_gay_or_lesbian              1399744\n",
       "intellectual_or_learning_disability    1399744\n",
       "jewish                                 1399744\n",
       "latino                                 1399744\n",
       "male                                   1399744\n",
       "muslim                                 1399744\n",
       "other_disability                       1399744\n",
       "other_gender                           1399744\n",
       "other_race_or_ethnicity                1399744\n",
       "other_religion                         1399744\n",
       "other_sexual_orientation               1399744\n",
       "physical_disability                    1399744\n",
       "psychiatric_or_mental_illness          1399744\n",
       "transgender                            1399744\n",
       "white                                  1399744\n",
       "created_date                                 0\n",
       "publication_id                               0\n",
       "parent_id                               778646\n",
       "article_id                                   0\n",
       "rating                                       0\n",
       "funny                                        0\n",
       "wow                                          0\n",
       "sad                                          0\n",
       "likes                                        0\n",
       "disagree                                     0\n",
       "sexual_explicit                              0\n",
       "identity_annotator_count                     0\n",
       "toxicity_annotator_count                     0\n",
       "dtype: int64"
      ]
     },
     "execution_count": 4,
     "metadata": {},
     "output_type": "execute_result"
    }
   ],
   "source": [
    "df.isna().sum()"
   ]
  },
  {
   "cell_type": "code",
   "execution_count": 5,
   "id": "489e5964-7081-47e0-ae03-380b2f58c57d",
   "metadata": {
    "tags": []
   },
   "outputs": [],
   "source": [
    "cols = [\"target\", \"comment_text\", \"severe_toxicity\", \"obscene\", \"identity_attack\", \"insult\", \"threat\"]"
   ]
  },
  {
   "cell_type": "code",
   "execution_count": 6,
   "id": "bd0be3ac-f659-414d-8411-b8cec4c48000",
   "metadata": {
    "tags": []
   },
   "outputs": [],
   "source": [
    "new_df = df[cols].copy()"
   ]
  },
  {
   "cell_type": "code",
   "execution_count": 7,
   "id": "7d951f97-3d7f-424b-a7b7-66ffb7aa026f",
   "metadata": {
    "tags": []
   },
   "outputs": [
    {
     "data": {
      "text/html": [
       "<div>\n",
       "<style scoped>\n",
       "    .dataframe tbody tr th:only-of-type {\n",
       "        vertical-align: middle;\n",
       "    }\n",
       "\n",
       "    .dataframe tbody tr th {\n",
       "        vertical-align: top;\n",
       "    }\n",
       "\n",
       "    .dataframe thead th {\n",
       "        text-align: right;\n",
       "    }\n",
       "</style>\n",
       "<table border=\"1\" class=\"dataframe\">\n",
       "  <thead>\n",
       "    <tr style=\"text-align: right;\">\n",
       "      <th></th>\n",
       "      <th>target</th>\n",
       "      <th>comment_text</th>\n",
       "      <th>severe_toxicity</th>\n",
       "      <th>obscene</th>\n",
       "      <th>identity_attack</th>\n",
       "      <th>insult</th>\n",
       "      <th>threat</th>\n",
       "    </tr>\n",
       "  </thead>\n",
       "  <tbody>\n",
       "    <tr>\n",
       "      <th>0</th>\n",
       "      <td>0.000000</td>\n",
       "      <td>This is so cool. It's like, 'would you want yo...</td>\n",
       "      <td>0.000000</td>\n",
       "      <td>0.0</td>\n",
       "      <td>0.000000</td>\n",
       "      <td>0.00000</td>\n",
       "      <td>0.0</td>\n",
       "    </tr>\n",
       "    <tr>\n",
       "      <th>1</th>\n",
       "      <td>0.000000</td>\n",
       "      <td>Thank you!! This would make my life a lot less...</td>\n",
       "      <td>0.000000</td>\n",
       "      <td>0.0</td>\n",
       "      <td>0.000000</td>\n",
       "      <td>0.00000</td>\n",
       "      <td>0.0</td>\n",
       "    </tr>\n",
       "    <tr>\n",
       "      <th>2</th>\n",
       "      <td>0.000000</td>\n",
       "      <td>This is such an urgent design problem; kudos t...</td>\n",
       "      <td>0.000000</td>\n",
       "      <td>0.0</td>\n",
       "      <td>0.000000</td>\n",
       "      <td>0.00000</td>\n",
       "      <td>0.0</td>\n",
       "    </tr>\n",
       "    <tr>\n",
       "      <th>3</th>\n",
       "      <td>0.000000</td>\n",
       "      <td>Is this something I'll be able to install on m...</td>\n",
       "      <td>0.000000</td>\n",
       "      <td>0.0</td>\n",
       "      <td>0.000000</td>\n",
       "      <td>0.00000</td>\n",
       "      <td>0.0</td>\n",
       "    </tr>\n",
       "    <tr>\n",
       "      <th>4</th>\n",
       "      <td>0.893617</td>\n",
       "      <td>haha you guys are a bunch of losers.</td>\n",
       "      <td>0.021277</td>\n",
       "      <td>0.0</td>\n",
       "      <td>0.021277</td>\n",
       "      <td>0.87234</td>\n",
       "      <td>0.0</td>\n",
       "    </tr>\n",
       "  </tbody>\n",
       "</table>\n",
       "</div>"
      ],
      "text/plain": [
       "     target                                       comment_text  \\\n",
       "0  0.000000  This is so cool. It's like, 'would you want yo...   \n",
       "1  0.000000  Thank you!! This would make my life a lot less...   \n",
       "2  0.000000  This is such an urgent design problem; kudos t...   \n",
       "3  0.000000  Is this something I'll be able to install on m...   \n",
       "4  0.893617               haha you guys are a bunch of losers.   \n",
       "\n",
       "   severe_toxicity  obscene  identity_attack   insult  threat  \n",
       "0         0.000000      0.0         0.000000  0.00000     0.0  \n",
       "1         0.000000      0.0         0.000000  0.00000     0.0  \n",
       "2         0.000000      0.0         0.000000  0.00000     0.0  \n",
       "3         0.000000      0.0         0.000000  0.00000     0.0  \n",
       "4         0.021277      0.0         0.021277  0.87234     0.0  "
      ]
     },
     "execution_count": 7,
     "metadata": {},
     "output_type": "execute_result"
    }
   ],
   "source": [
    "new_df.head()"
   ]
  },
  {
   "cell_type": "code",
   "execution_count": 8,
   "id": "458ca6aa-e778-4deb-ac74-e9024168111e",
   "metadata": {
    "tags": []
   },
   "outputs": [],
   "source": [
    "import nltk\n",
    "from nltk.tokenize import word_tokenize\n",
    "from nltk.corpus import stopwords\n",
    "from nltk.stem import WordNetLemmatizer\n",
    "import string"
   ]
  },
  {
   "cell_type": "code",
   "execution_count": 9,
   "id": "2cd1c2cf-985e-447a-b40b-482c627cddf3",
   "metadata": {
    "tags": []
   },
   "outputs": [],
   "source": [
    "cmnts = new_df['comment_text'].values\n",
    "# Lowercasing\n",
    "preprocessed_cmnts = []\n",
    "for text in cmnts:\n",
    "    text = text.lower()\n",
    "\n",
    "    # Tokenization\n",
    "    tokens = word_tokenize(text)\n",
    "\n",
    "    # Removing punctuation and stopwords\n",
    "    table = str.maketrans('', '', string.punctuation)\n",
    "    stripped = [w.translate(table) for w in tokens if w.isalpha()]\n",
    "    stop_words = set(stopwords.words('english'))\n",
    "    filtered_sentence = [w for w in stripped if not w in stop_words]\n",
    "\n",
    "    # Lemmatization\n",
    "    lemmatizer = WordNetLemmatizer()\n",
    "    lemmatized = [lemmatizer.lemmatize(w) for w in filtered_sentence]\n",
    "    preprocessed_cmnts.append(lemmatized)"
   ]
  },
  {
   "cell_type": "code",
   "execution_count": 10,
   "id": "4681f0fb-b0df-4e7d-85bb-23fc380246eb",
   "metadata": {
    "tags": []
   },
   "outputs": [],
   "source": [
    "preprocessed_cmnts = [\" \".join(cmnts) for cmnts in preprocessed_cmnts]"
   ]
  },
  {
   "cell_type": "code",
   "execution_count": 147,
   "id": "621f4df2-5993-4cfd-9c44-efa26dc843bc",
   "metadata": {
    "tags": []
   },
   "outputs": [],
   "source": [
    "# preprocessed_cmnts"
   ]
  },
  {
   "cell_type": "code",
   "execution_count": 11,
   "id": "9aeeb360-b25c-4255-b991-68bc0355f564",
   "metadata": {
    "tags": []
   },
   "outputs": [],
   "source": [
    "new_df[\"processed_cmnts\"] = preprocessed_cmnts"
   ]
  },
  {
   "cell_type": "code",
   "execution_count": 12,
   "id": "ce2a3de1-0550-4a67-ab5a-4c6b9e6867a1",
   "metadata": {
    "tags": []
   },
   "outputs": [
    {
     "data": {
      "text/html": [
       "<div>\n",
       "<style scoped>\n",
       "    .dataframe tbody tr th:only-of-type {\n",
       "        vertical-align: middle;\n",
       "    }\n",
       "\n",
       "    .dataframe tbody tr th {\n",
       "        vertical-align: top;\n",
       "    }\n",
       "\n",
       "    .dataframe thead th {\n",
       "        text-align: right;\n",
       "    }\n",
       "</style>\n",
       "<table border=\"1\" class=\"dataframe\">\n",
       "  <thead>\n",
       "    <tr style=\"text-align: right;\">\n",
       "      <th></th>\n",
       "      <th>target</th>\n",
       "      <th>comment_text</th>\n",
       "      <th>severe_toxicity</th>\n",
       "      <th>obscene</th>\n",
       "      <th>identity_attack</th>\n",
       "      <th>insult</th>\n",
       "      <th>threat</th>\n",
       "      <th>processed_cmnts</th>\n",
       "    </tr>\n",
       "  </thead>\n",
       "  <tbody>\n",
       "    <tr>\n",
       "      <th>0</th>\n",
       "      <td>0.000000</td>\n",
       "      <td>This is so cool. It's like, 'would you want yo...</td>\n",
       "      <td>0.000000</td>\n",
       "      <td>0.0</td>\n",
       "      <td>0.000000</td>\n",
       "      <td>0.00000</td>\n",
       "      <td>0.0</td>\n",
       "      <td>cool like want mother read really great idea w...</td>\n",
       "    </tr>\n",
       "    <tr>\n",
       "      <th>1</th>\n",
       "      <td>0.000000</td>\n",
       "      <td>Thank you!! This would make my life a lot less...</td>\n",
       "      <td>0.000000</td>\n",
       "      <td>0.0</td>\n",
       "      <td>0.000000</td>\n",
       "      <td>0.00000</td>\n",
       "      <td>0.0</td>\n",
       "      <td>thank would make life lot le keep let anyone g...</td>\n",
       "    </tr>\n",
       "    <tr>\n",
       "      <th>2</th>\n",
       "      <td>0.000000</td>\n",
       "      <td>This is such an urgent design problem; kudos t...</td>\n",
       "      <td>0.000000</td>\n",
       "      <td>0.0</td>\n",
       "      <td>0.000000</td>\n",
       "      <td>0.00000</td>\n",
       "      <td>0.0</td>\n",
       "      <td>urgent design problem kudos taking impressive</td>\n",
       "    </tr>\n",
       "    <tr>\n",
       "      <th>3</th>\n",
       "      <td>0.000000</td>\n",
       "      <td>Is this something I'll be able to install on m...</td>\n",
       "      <td>0.000000</td>\n",
       "      <td>0.0</td>\n",
       "      <td>0.000000</td>\n",
       "      <td>0.00000</td>\n",
       "      <td>0.0</td>\n",
       "      <td>something able install site releasing</td>\n",
       "    </tr>\n",
       "    <tr>\n",
       "      <th>4</th>\n",
       "      <td>0.893617</td>\n",
       "      <td>haha you guys are a bunch of losers.</td>\n",
       "      <td>0.021277</td>\n",
       "      <td>0.0</td>\n",
       "      <td>0.021277</td>\n",
       "      <td>0.87234</td>\n",
       "      <td>0.0</td>\n",
       "      <td>haha guy bunch loser</td>\n",
       "    </tr>\n",
       "  </tbody>\n",
       "</table>\n",
       "</div>"
      ],
      "text/plain": [
       "     target                                       comment_text  \\\n",
       "0  0.000000  This is so cool. It's like, 'would you want yo...   \n",
       "1  0.000000  Thank you!! This would make my life a lot less...   \n",
       "2  0.000000  This is such an urgent design problem; kudos t...   \n",
       "3  0.000000  Is this something I'll be able to install on m...   \n",
       "4  0.893617               haha you guys are a bunch of losers.   \n",
       "\n",
       "   severe_toxicity  obscene  identity_attack   insult  threat  \\\n",
       "0         0.000000      0.0         0.000000  0.00000     0.0   \n",
       "1         0.000000      0.0         0.000000  0.00000     0.0   \n",
       "2         0.000000      0.0         0.000000  0.00000     0.0   \n",
       "3         0.000000      0.0         0.000000  0.00000     0.0   \n",
       "4         0.021277      0.0         0.021277  0.87234     0.0   \n",
       "\n",
       "                                     processed_cmnts  \n",
       "0  cool like want mother read really great idea w...  \n",
       "1  thank would make life lot le keep let anyone g...  \n",
       "2      urgent design problem kudos taking impressive  \n",
       "3              something able install site releasing  \n",
       "4                               haha guy bunch loser  "
      ]
     },
     "execution_count": 12,
     "metadata": {},
     "output_type": "execute_result"
    }
   ],
   "source": [
    "new_df.head()"
   ]
  },
  {
   "cell_type": "code",
   "execution_count": 13,
   "id": "2eb69f01-5fbe-405d-b792-87829d62e370",
   "metadata": {
    "tags": []
   },
   "outputs": [],
   "source": [
    "new_df.to_csv('cleaned_df.csv', index=False)"
   ]
  },
  {
   "cell_type": "code",
   "execution_count": 14,
   "id": "2ec81bef-e97a-498d-845c-9083cc87e846",
   "metadata": {
    "tags": []
   },
   "outputs": [],
   "source": [
    "new_df['toxic'] = new_df['target'].apply(lambda x: 0 if x < 0.34 else 1)"
   ]
  },
  {
   "cell_type": "code",
   "execution_count": 15,
   "id": "8f59dadd-2a33-4e8e-a1e1-ebd702016113",
   "metadata": {
    "tags": []
   },
   "outputs": [
    {
     "data": {
      "text/html": [
       "<div>\n",
       "<style scoped>\n",
       "    .dataframe tbody tr th:only-of-type {\n",
       "        vertical-align: middle;\n",
       "    }\n",
       "\n",
       "    .dataframe tbody tr th {\n",
       "        vertical-align: top;\n",
       "    }\n",
       "\n",
       "    .dataframe thead th {\n",
       "        text-align: right;\n",
       "    }\n",
       "</style>\n",
       "<table border=\"1\" class=\"dataframe\">\n",
       "  <thead>\n",
       "    <tr style=\"text-align: right;\">\n",
       "      <th></th>\n",
       "      <th>target</th>\n",
       "      <th>comment_text</th>\n",
       "      <th>severe_toxicity</th>\n",
       "      <th>obscene</th>\n",
       "      <th>identity_attack</th>\n",
       "      <th>insult</th>\n",
       "      <th>threat</th>\n",
       "      <th>processed_cmnts</th>\n",
       "      <th>toxic</th>\n",
       "    </tr>\n",
       "  </thead>\n",
       "  <tbody>\n",
       "    <tr>\n",
       "      <th>0</th>\n",
       "      <td>0.000000</td>\n",
       "      <td>This is so cool. It's like, 'would you want yo...</td>\n",
       "      <td>0.000000</td>\n",
       "      <td>0.000000</td>\n",
       "      <td>0.000000</td>\n",
       "      <td>0.000000</td>\n",
       "      <td>0.0</td>\n",
       "      <td>cool like want mother read really great idea w...</td>\n",
       "      <td>0</td>\n",
       "    </tr>\n",
       "    <tr>\n",
       "      <th>1</th>\n",
       "      <td>0.000000</td>\n",
       "      <td>Thank you!! This would make my life a lot less...</td>\n",
       "      <td>0.000000</td>\n",
       "      <td>0.000000</td>\n",
       "      <td>0.000000</td>\n",
       "      <td>0.000000</td>\n",
       "      <td>0.0</td>\n",
       "      <td>thank would make life lot le keep let anyone g...</td>\n",
       "      <td>0</td>\n",
       "    </tr>\n",
       "    <tr>\n",
       "      <th>2</th>\n",
       "      <td>0.000000</td>\n",
       "      <td>This is such an urgent design problem; kudos t...</td>\n",
       "      <td>0.000000</td>\n",
       "      <td>0.000000</td>\n",
       "      <td>0.000000</td>\n",
       "      <td>0.000000</td>\n",
       "      <td>0.0</td>\n",
       "      <td>urgent design problem kudos taking impressive</td>\n",
       "      <td>0</td>\n",
       "    </tr>\n",
       "    <tr>\n",
       "      <th>3</th>\n",
       "      <td>0.000000</td>\n",
       "      <td>Is this something I'll be able to install on m...</td>\n",
       "      <td>0.000000</td>\n",
       "      <td>0.000000</td>\n",
       "      <td>0.000000</td>\n",
       "      <td>0.000000</td>\n",
       "      <td>0.0</td>\n",
       "      <td>something able install site releasing</td>\n",
       "      <td>0</td>\n",
       "    </tr>\n",
       "    <tr>\n",
       "      <th>4</th>\n",
       "      <td>0.893617</td>\n",
       "      <td>haha you guys are a bunch of losers.</td>\n",
       "      <td>0.021277</td>\n",
       "      <td>0.000000</td>\n",
       "      <td>0.021277</td>\n",
       "      <td>0.872340</td>\n",
       "      <td>0.0</td>\n",
       "      <td>haha guy bunch loser</td>\n",
       "      <td>1</td>\n",
       "    </tr>\n",
       "    <tr>\n",
       "      <th>5</th>\n",
       "      <td>0.666667</td>\n",
       "      <td>ur a sh*tty comment.</td>\n",
       "      <td>0.047619</td>\n",
       "      <td>0.638095</td>\n",
       "      <td>0.000000</td>\n",
       "      <td>0.333333</td>\n",
       "      <td>0.0</td>\n",
       "      <td>ur sh tty comment</td>\n",
       "      <td>1</td>\n",
       "    </tr>\n",
       "    <tr>\n",
       "      <th>6</th>\n",
       "      <td>0.457627</td>\n",
       "      <td>hahahahahahahahhha suck it.</td>\n",
       "      <td>0.050847</td>\n",
       "      <td>0.305085</td>\n",
       "      <td>0.000000</td>\n",
       "      <td>0.254237</td>\n",
       "      <td>0.0</td>\n",
       "      <td>hahahahahahahahhha suck</td>\n",
       "      <td>1</td>\n",
       "    </tr>\n",
       "    <tr>\n",
       "      <th>7</th>\n",
       "      <td>0.000000</td>\n",
       "      <td>FFFFUUUUUUUUUUUUUUU</td>\n",
       "      <td>0.000000</td>\n",
       "      <td>0.000000</td>\n",
       "      <td>0.000000</td>\n",
       "      <td>0.000000</td>\n",
       "      <td>0.0</td>\n",
       "      <td>ffffuuuuuuuuuuuuuuu</td>\n",
       "      <td>0</td>\n",
       "    </tr>\n",
       "    <tr>\n",
       "      <th>8</th>\n",
       "      <td>0.000000</td>\n",
       "      <td>The ranchers seem motivated by mostly by greed...</td>\n",
       "      <td>0.000000</td>\n",
       "      <td>0.000000</td>\n",
       "      <td>0.000000</td>\n",
       "      <td>0.000000</td>\n",
       "      <td>0.0</td>\n",
       "      <td>rancher seem motivated mostly greed one right ...</td>\n",
       "      <td>0</td>\n",
       "    </tr>\n",
       "    <tr>\n",
       "      <th>9</th>\n",
       "      <td>0.000000</td>\n",
       "      <td>It was a great show. Not a combo I'd of expect...</td>\n",
       "      <td>0.000000</td>\n",
       "      <td>0.000000</td>\n",
       "      <td>0.000000</td>\n",
       "      <td>0.000000</td>\n",
       "      <td>0.0</td>\n",
       "      <td>great show combo expected good together</td>\n",
       "      <td>0</td>\n",
       "    </tr>\n",
       "    <tr>\n",
       "      <th>10</th>\n",
       "      <td>0.000000</td>\n",
       "      <td>Wow, that sounds great.</td>\n",
       "      <td>0.000000</td>\n",
       "      <td>0.000000</td>\n",
       "      <td>0.000000</td>\n",
       "      <td>0.000000</td>\n",
       "      <td>0.0</td>\n",
       "      <td>wow sound great</td>\n",
       "      <td>0</td>\n",
       "    </tr>\n",
       "    <tr>\n",
       "      <th>11</th>\n",
       "      <td>0.440000</td>\n",
       "      <td>This is a great story. Man. I wonder if the pe...</td>\n",
       "      <td>0.000000</td>\n",
       "      <td>0.293333</td>\n",
       "      <td>0.000000</td>\n",
       "      <td>0.320000</td>\n",
       "      <td>0.0</td>\n",
       "      <td>great story man wonder person yelled shut fuck...</td>\n",
       "      <td>1</td>\n",
       "    </tr>\n",
       "    <tr>\n",
       "      <th>12</th>\n",
       "      <td>0.000000</td>\n",
       "      <td>This seems like a step in the right direction.</td>\n",
       "      <td>0.000000</td>\n",
       "      <td>0.000000</td>\n",
       "      <td>0.000000</td>\n",
       "      <td>0.000000</td>\n",
       "      <td>0.0</td>\n",
       "      <td>seems like step right direction</td>\n",
       "      <td>0</td>\n",
       "    </tr>\n",
       "    <tr>\n",
       "      <th>13</th>\n",
       "      <td>0.600000</td>\n",
       "      <td>It's ridiculous that these guys are being call...</td>\n",
       "      <td>0.000000</td>\n",
       "      <td>0.100000</td>\n",
       "      <td>0.000000</td>\n",
       "      <td>0.600000</td>\n",
       "      <td>0.1</td>\n",
       "      <td>ridiculous guy called protester armed threat v...</td>\n",
       "      <td>1</td>\n",
       "    </tr>\n",
       "    <tr>\n",
       "      <th>14</th>\n",
       "      <td>0.500000</td>\n",
       "      <td>This story gets more ridiculous by the hour! A...</td>\n",
       "      <td>0.000000</td>\n",
       "      <td>0.000000</td>\n",
       "      <td>0.000000</td>\n",
       "      <td>0.300000</td>\n",
       "      <td>0.0</td>\n",
       "      <td>story get ridiculous hour love people sending ...</td>\n",
       "      <td>1</td>\n",
       "    </tr>\n",
       "  </tbody>\n",
       "</table>\n",
       "</div>"
      ],
      "text/plain": [
       "      target                                       comment_text  \\\n",
       "0   0.000000  This is so cool. It's like, 'would you want yo...   \n",
       "1   0.000000  Thank you!! This would make my life a lot less...   \n",
       "2   0.000000  This is such an urgent design problem; kudos t...   \n",
       "3   0.000000  Is this something I'll be able to install on m...   \n",
       "4   0.893617               haha you guys are a bunch of losers.   \n",
       "5   0.666667                               ur a sh*tty comment.   \n",
       "6   0.457627                        hahahahahahahahhha suck it.   \n",
       "7   0.000000                                FFFFUUUUUUUUUUUUUUU   \n",
       "8   0.000000  The ranchers seem motivated by mostly by greed...   \n",
       "9   0.000000  It was a great show. Not a combo I'd of expect...   \n",
       "10  0.000000                            Wow, that sounds great.   \n",
       "11  0.440000  This is a great story. Man. I wonder if the pe...   \n",
       "12  0.000000     This seems like a step in the right direction.   \n",
       "13  0.600000  It's ridiculous that these guys are being call...   \n",
       "14  0.500000  This story gets more ridiculous by the hour! A...   \n",
       "\n",
       "    severe_toxicity   obscene  identity_attack    insult  threat  \\\n",
       "0          0.000000  0.000000         0.000000  0.000000     0.0   \n",
       "1          0.000000  0.000000         0.000000  0.000000     0.0   \n",
       "2          0.000000  0.000000         0.000000  0.000000     0.0   \n",
       "3          0.000000  0.000000         0.000000  0.000000     0.0   \n",
       "4          0.021277  0.000000         0.021277  0.872340     0.0   \n",
       "5          0.047619  0.638095         0.000000  0.333333     0.0   \n",
       "6          0.050847  0.305085         0.000000  0.254237     0.0   \n",
       "7          0.000000  0.000000         0.000000  0.000000     0.0   \n",
       "8          0.000000  0.000000         0.000000  0.000000     0.0   \n",
       "9          0.000000  0.000000         0.000000  0.000000     0.0   \n",
       "10         0.000000  0.000000         0.000000  0.000000     0.0   \n",
       "11         0.000000  0.293333         0.000000  0.320000     0.0   \n",
       "12         0.000000  0.000000         0.000000  0.000000     0.0   \n",
       "13         0.000000  0.100000         0.000000  0.600000     0.1   \n",
       "14         0.000000  0.000000         0.000000  0.300000     0.0   \n",
       "\n",
       "                                      processed_cmnts  toxic  \n",
       "0   cool like want mother read really great idea w...      0  \n",
       "1   thank would make life lot le keep let anyone g...      0  \n",
       "2       urgent design problem kudos taking impressive      0  \n",
       "3               something able install site releasing      0  \n",
       "4                                haha guy bunch loser      1  \n",
       "5                                   ur sh tty comment      1  \n",
       "6                             hahahahahahahahhha suck      1  \n",
       "7                                 ffffuuuuuuuuuuuuuuu      0  \n",
       "8   rancher seem motivated mostly greed one right ...      0  \n",
       "9             great show combo expected good together      0  \n",
       "10                                    wow sound great      0  \n",
       "11  great story man wonder person yelled shut fuck...      1  \n",
       "12                    seems like step right direction      0  \n",
       "13  ridiculous guy called protester armed threat v...      1  \n",
       "14  story get ridiculous hour love people sending ...      1  "
      ]
     },
     "execution_count": 15,
     "metadata": {},
     "output_type": "execute_result"
    }
   ],
   "source": [
    "new_df.head(15)"
   ]
  },
  {
   "cell_type": "code",
   "execution_count": 16,
   "id": "9446bf6e-c54d-43bd-ab33-1ba76d69f363",
   "metadata": {
    "tags": []
   },
   "outputs": [],
   "source": [
    "new_df.drop(columns=['target', 'comment_text'], inplace=True)"
   ]
  },
  {
   "cell_type": "code",
   "execution_count": 17,
   "id": "e8b986b8-407c-45f0-9727-edc308a01414",
   "metadata": {
    "tags": []
   },
   "outputs": [
    {
     "data": {
      "text/plain": [
       "0    1599882\n",
       "1     204992\n",
       "Name: toxic, dtype: int64"
      ]
     },
     "execution_count": 17,
     "metadata": {},
     "output_type": "execute_result"
    }
   ],
   "source": [
    "new_df['toxic'].value_counts()"
   ]
  },
  {
   "cell_type": "code",
   "execution_count": 19,
   "id": "1b386237-1cc2-4845-b8cb-2e1d60671c9e",
   "metadata": {
    "tags": []
   },
   "outputs": [],
   "source": [
    "min_samples = 204992\n",
    "df_toxic = new_df[new_df.toxic==0].sample(min_samples, random_state=42)\n",
    "df_ntoxic = new_df[new_df.toxic==1].sample(min_samples, random_state=42)"
   ]
  },
  {
   "cell_type": "code",
   "execution_count": 20,
   "id": "00ac043d-d942-45a4-8470-ecdacc04b461",
   "metadata": {
    "tags": []
   },
   "outputs": [
    {
     "data": {
      "text/plain": [
       "Index(['severe_toxicity', 'obscene', 'identity_attack', 'insult', 'threat',\n",
       "       'processed_cmnts', 'toxic'],\n",
       "      dtype='object')"
      ]
     },
     "execution_count": 20,
     "metadata": {},
     "output_type": "execute_result"
    }
   ],
   "source": [
    "df_toxic.columns"
   ]
  },
  {
   "cell_type": "code",
   "execution_count": 21,
   "id": "1cbd65eb-59de-4280-b217-199d07d5f77b",
   "metadata": {
    "tags": []
   },
   "outputs": [],
   "source": [
    "bal_df = pd.concat([df_toxic, df_ntoxic], axis=0)"
   ]
  },
  {
   "cell_type": "code",
   "execution_count": 22,
   "id": "562b77da-7f68-43c0-aeff-edfc2cae938c",
   "metadata": {
    "tags": []
   },
   "outputs": [
    {
     "data": {
      "text/html": [
       "<div>\n",
       "<style scoped>\n",
       "    .dataframe tbody tr th:only-of-type {\n",
       "        vertical-align: middle;\n",
       "    }\n",
       "\n",
       "    .dataframe tbody tr th {\n",
       "        vertical-align: top;\n",
       "    }\n",
       "\n",
       "    .dataframe thead th {\n",
       "        text-align: right;\n",
       "    }\n",
       "</style>\n",
       "<table border=\"1\" class=\"dataframe\">\n",
       "  <thead>\n",
       "    <tr style=\"text-align: right;\">\n",
       "      <th></th>\n",
       "      <th>severe_toxicity</th>\n",
       "      <th>obscene</th>\n",
       "      <th>identity_attack</th>\n",
       "      <th>insult</th>\n",
       "      <th>threat</th>\n",
       "      <th>processed_cmnts</th>\n",
       "      <th>toxic</th>\n",
       "    </tr>\n",
       "  </thead>\n",
       "  <tbody>\n",
       "    <tr>\n",
       "      <th>1603540</th>\n",
       "      <td>0.0</td>\n",
       "      <td>0.0</td>\n",
       "      <td>0.0</td>\n",
       "      <td>0.0</td>\n",
       "      <td>0.0</td>\n",
       "      <td>tdw apology new toshiba battery available</td>\n",
       "      <td>0</td>\n",
       "    </tr>\n",
       "    <tr>\n",
       "      <th>334703</th>\n",
       "      <td>0.0</td>\n",
       "      <td>0.0</td>\n",
       "      <td>0.0</td>\n",
       "      <td>0.0</td>\n",
       "      <td>0.0</td>\n",
       "      <td>sorry badly misinformed nature people talking ...</td>\n",
       "      <td>0</td>\n",
       "    </tr>\n",
       "    <tr>\n",
       "      <th>1164802</th>\n",
       "      <td>0.0</td>\n",
       "      <td>0.0</td>\n",
       "      <td>0.0</td>\n",
       "      <td>0.0</td>\n",
       "      <td>0.0</td>\n",
       "      <td>writer know difference direct surprising</td>\n",
       "      <td>0</td>\n",
       "    </tr>\n",
       "    <tr>\n",
       "      <th>120297</th>\n",
       "      <td>0.0</td>\n",
       "      <td>0.0</td>\n",
       "      <td>0.0</td>\n",
       "      <td>0.0</td>\n",
       "      <td>0.0</td>\n",
       "      <td>nafta negotiated constructed gop especially ge...</td>\n",
       "      <td>0</td>\n",
       "    </tr>\n",
       "    <tr>\n",
       "      <th>963842</th>\n",
       "      <td>0.0</td>\n",
       "      <td>0.0</td>\n",
       "      <td>0.0</td>\n",
       "      <td>0.0</td>\n",
       "      <td>0.0</td>\n",
       "      <td>lock</td>\n",
       "      <td>0</td>\n",
       "    </tr>\n",
       "  </tbody>\n",
       "</table>\n",
       "</div>"
      ],
      "text/plain": [
       "         severe_toxicity  obscene  identity_attack  insult  threat  \\\n",
       "1603540              0.0      0.0              0.0     0.0     0.0   \n",
       "334703               0.0      0.0              0.0     0.0     0.0   \n",
       "1164802              0.0      0.0              0.0     0.0     0.0   \n",
       "120297               0.0      0.0              0.0     0.0     0.0   \n",
       "963842               0.0      0.0              0.0     0.0     0.0   \n",
       "\n",
       "                                           processed_cmnts  toxic  \n",
       "1603540          tdw apology new toshiba battery available      0  \n",
       "334703   sorry badly misinformed nature people talking ...      0  \n",
       "1164802           writer know difference direct surprising      0  \n",
       "120297   nafta negotiated constructed gop especially ge...      0  \n",
       "963842                                                lock      0  "
      ]
     },
     "execution_count": 22,
     "metadata": {},
     "output_type": "execute_result"
    }
   ],
   "source": [
    "bal_df.head()"
   ]
  },
  {
   "cell_type": "code",
   "execution_count": 23,
   "id": "3ab4fee5-2db6-4e8c-b416-40e4a3788cb4",
   "metadata": {
    "tags": []
   },
   "outputs": [],
   "source": [
    "bal_df.to_csv(\"balanced_df1.csv\", index=False)"
   ]
  },
  {
   "cell_type": "code",
   "execution_count": 24,
   "id": "8262f77d-8c8b-4ad5-9c07-b6e5b0c90073",
   "metadata": {
    "tags": []
   },
   "outputs": [
    {
     "data": {
      "text/plain": [
       "0    204992\n",
       "1    204992\n",
       "Name: toxic, dtype: int64"
      ]
     },
     "execution_count": 24,
     "metadata": {},
     "output_type": "execute_result"
    }
   ],
   "source": [
    "bal_df[\"toxic\"].value_counts()"
   ]
  },
  {
   "cell_type": "code",
   "execution_count": 25,
   "id": "665e543b-1107-496b-b7c8-0c92d49aebaf",
   "metadata": {
    "tags": []
   },
   "outputs": [],
   "source": [
    "from sklearn.feature_extraction.text import CountVectorizer\n",
    "from sklearn.naive_bayes import MultinomialNB\n",
    "from sklearn.pipeline import Pipeline\n",
    "from sklearn.metrics import classification_report\n",
    "from sklearn.model_selection import train_test_split"
   ]
  },
  {
   "cell_type": "code",
   "execution_count": 26,
   "id": "eeaa938f-7e69-4a88-b5ac-b7e7376beb1c",
   "metadata": {
    "tags": []
   },
   "outputs": [],
   "source": [
    "X_train, X_test, y_train, y_test = train_test_split(bal_df.processed_cmnts, bal_df.toxic, test_size=0.2, random_state=42, stratify=bal_df.toxic)"
   ]
  },
  {
   "cell_type": "code",
   "execution_count": 27,
   "id": "ec273893-e74b-4de9-8050-cf24cc3b75b9",
   "metadata": {
    "tags": []
   },
   "outputs": [
    {
     "data": {
      "text/plain": [
       "1173197    folk need taken space musk brought back inside...\n",
       "1414025    boring place desire refute saying give much cr...\n",
       "159575     interesting thought ascribe closing boarding h...\n",
       "325533     republican majority gutted ast budget walker c...\n",
       "1011275    would better wearing helmet one le lowlife str...\n",
       "Name: processed_cmnts, dtype: object"
      ]
     },
     "execution_count": 27,
     "metadata": {},
     "output_type": "execute_result"
    }
   ],
   "source": [
    "X_train.head()"
   ]
  },
  {
   "cell_type": "code",
   "execution_count": 28,
   "id": "0ffe31d4-8b29-44aa-8351-3097504a51ec",
   "metadata": {
    "tags": []
   },
   "outputs": [
    {
     "data": {
      "text/plain": [
       "0    40999\n",
       "1    40998\n",
       "Name: toxic, dtype: int64"
      ]
     },
     "execution_count": 28,
     "metadata": {},
     "output_type": "execute_result"
    }
   ],
   "source": [
    "y_test.value_counts()"
   ]
  },
  {
   "cell_type": "code",
   "execution_count": 29,
   "id": "2b5da8a9-6933-41ed-b05e-5a9273dd17a1",
   "metadata": {
    "tags": []
   },
   "outputs": [
    {
     "name": "stdout",
     "output_type": "stream",
     "text": [
      "              precision    recall  f1-score   support\n",
      "\n",
      "           0       0.83      0.67      0.74     40999\n",
      "           1       0.72      0.86      0.79     40998\n",
      "\n",
      "    accuracy                           0.77     81997\n",
      "   macro avg       0.78      0.77      0.77     81997\n",
      "weighted avg       0.78      0.77      0.77     81997\n",
      "\n"
     ]
    }
   ],
   "source": [
    "clf = Pipeline([\n",
    "    ('vectorizer_bow', CountVectorizer()),\n",
    "    ('Multi NB', MultinomialNB())\n",
    "])\n",
    "\n",
    "clf.fit(X_train, y_train)\n",
    "y_pred = clf.predict(X_test)\n",
    "print(classification_report(y_test, y_pred))"
   ]
  },
  {
   "cell_type": "code",
   "execution_count": 30,
   "id": "2e5db34f-125e-4d00-8c18-5df40ca369f0",
   "metadata": {
    "tags": []
   },
   "outputs": [
    {
     "data": {
      "text/plain": [
       "97203                     yes please lilac spouse need info\n",
       "144590    checked second possibly last cantilevered rail...\n",
       "399052    germany fault recently discussed banning burka...\n",
       "100413                               beautifully said thank\n",
       "680660    umm described caldwell worst mayor ever cholo ...\n",
       "Name: processed_cmnts, dtype: object"
      ]
     },
     "execution_count": 30,
     "metadata": {},
     "output_type": "execute_result"
    }
   ],
   "source": [
    "X_test.head()"
   ]
  },
  {
   "cell_type": "code",
   "execution_count": 31,
   "id": "2ed09bab-1a4c-435f-afd1-49dac39d28c0",
   "metadata": {
    "tags": []
   },
   "outputs": [],
   "source": [
    "import pickle\n",
    "\n",
    "# Save the model to a file\n",
    "with open('toxic_multinomial_nb_model.pkl', 'wb') as file:\n",
    "    pickle.dump(clf, file)"
   ]
  },
  {
   "cell_type": "code",
   "execution_count": 32,
   "id": "4ea2be22-c92c-4e38-8edd-b603ec3c578d",
   "metadata": {
    "tags": []
   },
   "outputs": [],
   "source": [
    "with open('toxic_multinomial_nb_model.pkl', 'rb') as file:\n",
    "    loaded_model = pickle.load(file)"
   ]
  },
  {
   "cell_type": "code",
   "execution_count": 33,
   "id": "bbd20454-4558-499b-ae8b-10b832335625",
   "metadata": {
    "tags": []
   },
   "outputs": [
    {
     "data": {
      "text/plain": [
       "array([1], dtype=int64)"
      ]
     },
     "execution_count": 33,
     "metadata": {},
     "output_type": "execute_result"
    }
   ],
   "source": [
    "clf.predict([\"I hate you\"])"
   ]
  },
  {
   "cell_type": "code",
   "execution_count": 34,
   "id": "fafb48b1-3199-497a-8c4d-2b5743a6e4df",
   "metadata": {
    "tags": []
   },
   "outputs": [
    {
     "name": "stderr",
     "output_type": "stream",
     "text": [
      "C:\\Users\\crezt\\anaconda3\\envs\\tfgpu\\lib\\site-packages\\tqdm\\auto.py:21: TqdmWarning: IProgress not found. Please update jupyter and ipywidgets. See https://ipywidgets.readthedocs.io/en/stable/user_install.html\n",
      "  from .autonotebook import tqdm as notebook_tqdm\n"
     ]
    }
   ],
   "source": [
    "import gradio as gr"
   ]
  },
  {
   "cell_type": "code",
   "execution_count": 54,
   "id": "1eea4824-33fb-427c-a7b2-9302992c8fd6",
   "metadata": {
    "tags": []
   },
   "outputs": [],
   "source": [
    "def classify_text(text):\n",
    "    p = loaded_model.predict([text])\n",
    "    return \"Toxic\" if p==1 else \"Non-Toxic\""
   ]
  },
  {
   "cell_type": "code",
   "execution_count": 55,
   "id": "3265a3d0-7ead-4742-a33a-5854f9a8c864",
   "metadata": {
    "tags": []
   },
   "outputs": [
    {
     "data": {
      "text/plain": [
       "'Non-Toxic'"
      ]
     },
     "execution_count": 55,
     "metadata": {},
     "output_type": "execute_result"
    }
   ],
   "source": [
    "classify_text(\"good\")"
   ]
  },
  {
   "cell_type": "code",
   "execution_count": 57,
   "id": "964c5598-4810-4a2b-9ab4-88c7a00facef",
   "metadata": {
    "tags": []
   },
   "outputs": [
    {
     "name": "stderr",
     "output_type": "stream",
     "text": [
      "C:\\Users\\crezt\\anaconda3\\envs\\tfgpu\\lib\\site-packages\\gradio\\inputs.py:28: UserWarning: Usage of gradio.inputs is deprecated, and will not be supported in the future, please import your component from gradio.components\n",
      "  \"Usage of gradio.inputs is deprecated, and will not be supported in the future, please import your component from gradio.components\",\n",
      "C:\\Users\\crezt\\anaconda3\\envs\\tfgpu\\lib\\site-packages\\gradio\\inputs.py:37: UserWarning: `optional` parameter is deprecated, and it has no effect\n",
      "  optional=optional,\n",
      "C:\\Users\\crezt\\anaconda3\\envs\\tfgpu\\lib\\site-packages\\gradio\\inputs.py:37: UserWarning: `numeric` parameter is deprecated, and it has no effect\n",
      "  optional=optional,\n"
     ]
    },
    {
     "name": "stdout",
     "output_type": "stream",
     "text": [
      "Running on local URL:  http://127.0.0.1:7866\n",
      "\n",
      "To create a public link, set `share=True` in `launch()`.\n"
     ]
    },
    {
     "data": {
      "text/html": [
       "<div><iframe src=\"http://127.0.0.1:7866/\" width=\"100%\" height=\"500\" allow=\"autoplay; camera; microphone; clipboard-read; clipboard-write;\" frameborder=\"0\" allowfullscreen></iframe></div>"
      ],
      "text/plain": [
       "<IPython.core.display.HTML object>"
      ]
     },
     "metadata": {},
     "output_type": "display_data"
    },
    {
     "data": {
      "text/plain": []
     },
     "execution_count": 57,
     "metadata": {},
     "output_type": "execute_result"
    }
   ],
   "source": [
    "# Gradio Interface\n",
    "iface = gr.Interface(\n",
    "    fn=classify_text,\n",
    "    inputs=gr.inputs.Textbox(lines=5, label=\"Enter Text\"),\n",
    "    outputs=\"text\",\n",
    "    title=\"Toxic Comment Classification\"\n",
    ")\n",
    "\n",
    "iface.launch()"
   ]
  },
  {
   "cell_type": "code",
   "execution_count": null,
   "id": "318f3cbb-7254-42de-a228-7338e2a3bcc0",
   "metadata": {},
   "outputs": [],
   "source": []
  }
 ],
 "metadata": {
  "kernelspec": {
   "display_name": "Python 3 (ipykernel)",
   "language": "python",
   "name": "python3"
  },
  "language_info": {
   "codemirror_mode": {
    "name": "ipython",
    "version": 3
   },
   "file_extension": ".py",
   "mimetype": "text/x-python",
   "name": "python",
   "nbconvert_exporter": "python",
   "pygments_lexer": "ipython3",
   "version": "3.7.16"
  }
 },
 "nbformat": 4,
 "nbformat_minor": 5
}
